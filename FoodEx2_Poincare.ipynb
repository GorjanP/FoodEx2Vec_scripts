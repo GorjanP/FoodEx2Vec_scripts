{
 "cells": [
  {
   "cell_type": "code",
   "execution_count": 14,
   "metadata": {},
   "outputs": [
    {
     "name": "stdout",
     "output_type": "stream",
     "text": [
      "Parsing /Users/Tome/Desktop/foodEx2_hierarchy.csv\n",
      "Learning Poincare embeddings with 5003 relations\n",
      "Training time: 0:01:12.139079\n",
      "Saving embeddings to /Users/Tome/Desktop/poincare_foodex2_500D.txt\n"
     ]
    }
   ],
   "source": [
    "from gensim.models.poincare import PoincareModel\n",
    "from datetime import datetime\n",
    "import pandas as pd\n",
    "import sys\n",
    "\n",
    "#read the FoodEx2 hierarchy data\n",
    "path='/Users/Tome/Desktop/foodEx2_hierarchy.csv'\n",
    "print('Parsing %s' % path)\n",
    "relations = []\n",
    "t_start = datetime.now()\n",
    "data = pd.read_csv(path, delimiter=',', usecols=['parent', 'code']) \n",
    "for row_id, row in data.iterrows():\n",
    "    relations.append((row['parent'], row['code']))\n",
    "    \n",
    "#learning Poincare embeddings\n",
    "emb_size= 500\n",
    "num_threads = 1    \n",
    "print('Learning Poincare embeddings with %d relations' % len(relations))\n",
    "model = PoincareModel(relations, size=emb_size, negative=2)\n",
    "t_start = datetime.now()\n",
    "model.train(epochs=50)\n",
    "t_end = datetime.now()\n",
    "print('Training time: %s' % (t_end - t_start))\n",
    "\n",
    "#saving the embeddings\n",
    "out_path='/Users/Tome/Desktop/poincare_foodex2_500D.txt'\n",
    "print('Saving embeddings to %s' % out_path)\n",
    "model.kv.save_word2vec_format(out_path)\n"
   ]
  },
  {
   "cell_type": "code",
   "execution_count": null,
   "metadata": {},
   "outputs": [],
   "source": []
  }
 ],
 "metadata": {
  "kernelspec": {
   "display_name": "Python 3",
   "language": "python",
   "name": "python3"
  },
  "language_info": {
   "codemirror_mode": {
    "name": "ipython",
    "version": 3
   },
   "file_extension": ".py",
   "mimetype": "text/x-python",
   "name": "python",
   "nbconvert_exporter": "python",
   "pygments_lexer": "ipython3",
   "version": "3.6.3"
  }
 },
 "nbformat": 4,
 "nbformat_minor": 2
}
